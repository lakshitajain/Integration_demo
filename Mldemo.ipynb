{
 "cells": [
  {
   "cell_type": "code",
   "execution_count": 30,
   "id": "1567d813",
   "metadata": {
    "scrolled": true
   },
   "outputs": [],
   "source": [
    "import numpy as np\n",
    "import pandas as pd\n",
    "import matplotlib.pyplot as plt\n",
    "from sklearn.linear_model import LogisticRegression\n",
    "from sklearn.model_selection import train_test_split  # Import train_test_split\n",
    "from sklearn import metrics\n",
    "# Load the dataset\n",
    "d=pd.read_csv('data/cardio_train.csv',delimiter=';')\n",
    "\n",
    "feature_cols1 = ['age', 'gender',\"height\", 'weight','ap_lo','ap_hi','cholesterol',\"gluc\",\"smoke\",\"active\"]\n",
    "logistic_regression = LogisticRegression()"
   ]
  },
  {
   "cell_type": "code",
   "execution_count": 31,
   "id": "e03323dd",
   "metadata": {},
   "outputs": [],
   "source": [
    "d[\"weight\"]=d[\"weight\"]/74.205690\n",
    "d[\"age\"]=d[\"age\"]/29\n",
    "d[\"height\"]=d[\"height\"]/164.359229"
   ]
  },
  {
   "cell_type": "code",
   "execution_count": 32,
   "id": "c8cb2ab8",
   "metadata": {},
   "outputs": [],
   "source": [
    "Q1 = d[\"ap_lo\"].quantile(0.25)\n",
    "Q3 = d[\"ap_lo\"].quantile(0.75)\n",
    "IQR = Q3 - Q1\n",
    "\n",
    "d[\"ap_lo\"] = d[\"ap_lo\"][~((d[\"ap_lo\"] < (Q1 - 1.5 * IQR)) |(d[\"ap_lo\"] > (Q3 + 1.5 * IQR)))]"
   ]
  },
  {
   "cell_type": "code",
   "execution_count": 33,
   "id": "edbf6420",
   "metadata": {},
   "outputs": [],
   "source": [
    "Q1 = d[\"ap_lo\"].quantile(0.25)\n",
    "Q3 = d[\"ap_lo\"].quantile(0.75)\n",
    "IQR = Q3 - Q1\n",
    "\n",
    "d[\"ap_lo\"] = d[\"ap_lo\"][~((d[\"ap_lo\"] < (Q1 - 1.5 * IQR)) |(d[\"ap_lo\"] > (Q3 + 1.5 * IQR)))]"
   ]
  },
  {
   "cell_type": "code",
   "execution_count": 34,
   "id": "da6932b7",
   "metadata": {},
   "outputs": [],
   "source": [
    "d[\"ap_lo\"]=d[\"ap_lo\"].fillna(d[\"ap_lo\"].mean())\n",
    "d[\"ap_hi\"]=d[\"ap_hi\"].fillna(d[\"ap_hi\"].mean())"
   ]
  },
  {
   "cell_type": "code",
   "execution_count": 35,
   "id": "9d906faa",
   "metadata": {},
   "outputs": [],
   "source": [
    "X = d[feature_cols1] # Features\n",
    "y = d.cardio \n",
    "X_train, X_test, y_train, y_test = train_test_split(X, y, test_size=0.25, random_state=4)"
   ]
  },
  {
   "cell_type": "code",
   "execution_count": 36,
   "id": "4a5cb31b",
   "metadata": {},
   "outputs": [
    {
     "name": "stderr",
     "output_type": "stream",
     "text": [
      "/home/lentraadmin/.local/lib/python3.8/site-packages/sklearn/linear_model/_logistic.py:458: ConvergenceWarning: lbfgs failed to converge (status=1):\n",
      "STOP: TOTAL NO. of ITERATIONS REACHED LIMIT.\n",
      "\n",
      "Increase the number of iterations (max_iter) or scale the data as shown in:\n",
      "    https://scikit-learn.org/stable/modules/preprocessing.html\n",
      "Please also refer to the documentation for alternative solver options:\n",
      "    https://scikit-learn.org/stable/modules/linear_model.html#logistic-regression\n",
      "  n_iter_i = _check_optimize_result(\n",
      "Registered model 'logistic-regression_demo' already exists. Creating a new version of this model...\n",
      "2023/04/12 12:26:04 INFO mlflow.tracking._model_registry.client: Waiting up to 300 seconds for model version to finish creation.                     Model name: logistic-regression_demo, version 4\n",
      "Created version '4' of model 'logistic-regression_demo'.\n"
     ]
    }
   ],
   "source": [
    "import mlflow\n",
    "from sklearn.metrics import mean_squared_error, r2_score\n",
    "with mlflow.start_run():\n",
    "    logistic_regression= LogisticRegression()\n",
    "    logistic_regression.fit(X_train,y_train)\n",
    "    y_pred=logistic_regression.predict(X_test)\n",
    "    mlflow.log_metric('Accuracy',metrics.accuracy_score(y_test, y_pred))\n",
    "    mlflow.log_metric('MSE',mean_squared_error(y_test, y_pred))\n",
    "    mlflow.log_metric('r2',r2_score(y_test, y_pred))\n",
    "    mlflow.sklearn.log_model(logistic_regression, \"model\", registered_model_name=\"logistic-regression_demo\")"
   ]
  },
  {
   "cell_type": "markdown",
   "id": "26c83274",
   "metadata": {},
   "source": []
  },
  {
   "cell_type": "code",
   "execution_count": 37,
   "id": "834e38d5",
   "metadata": {},
   "outputs": [],
   "source": [
    "mlflow.end_run()"
   ]
  },
  {
   "cell_type": "code",
   "execution_count": 38,
   "id": "84f29eb0",
   "metadata": {},
   "outputs": [
    {
     "ename": "MlflowException",
     "evalue": "Registered Model (name=logistic_regression-model-1) already exists.",
     "output_type": "error",
     "traceback": [
      "\u001b[0;31m---------------------------------------------------------------------------\u001b[0m",
      "\u001b[0;31mMlflowException\u001b[0m                           Traceback (most recent call last)",
      "Cell \u001b[0;32mIn[38], line 4\u001b[0m\n\u001b[1;32m      1\u001b[0m \u001b[39mfrom\u001b[39;00m \u001b[39mmlflow\u001b[39;00m \u001b[39mimport\u001b[39;00m MlflowClient\n\u001b[1;32m      3\u001b[0m client \u001b[39m=\u001b[39m MlflowClient()\n\u001b[0;32m----> 4\u001b[0m client\u001b[39m.\u001b[39;49mcreate_registered_model(\u001b[39m\"\u001b[39;49m\u001b[39mlogistic_regression-model-1\u001b[39;49m\u001b[39m\"\u001b[39;49m)\n",
      "File \u001b[0;32m~/.local/lib/python3.8/site-packages/mlflow/tracking/client.py:1743\u001b[0m, in \u001b[0;36mMlflowClient.create_registered_model\u001b[0;34m(self, name, tags, description)\u001b[0m\n\u001b[1;32m   1701\u001b[0m \u001b[39mdef\u001b[39;00m \u001b[39mcreate_registered_model\u001b[39m(\n\u001b[1;32m   1702\u001b[0m     \u001b[39mself\u001b[39m, name: \u001b[39mstr\u001b[39m, tags: Optional[Dict[\u001b[39mstr\u001b[39m, Any]] \u001b[39m=\u001b[39m \u001b[39mNone\u001b[39;00m, description: Optional[\u001b[39mstr\u001b[39m] \u001b[39m=\u001b[39m \u001b[39mNone\u001b[39;00m\n\u001b[1;32m   1703\u001b[0m ) \u001b[39m-\u001b[39m\u001b[39m>\u001b[39m RegisteredModel:\n\u001b[1;32m   1704\u001b[0m \u001b[39m    \u001b[39m\u001b[39m\"\"\"\u001b[39;00m\n\u001b[1;32m   1705\u001b[0m \u001b[39m    Create a new registered model in backend store.\u001b[39;00m\n\u001b[1;32m   1706\u001b[0m \n\u001b[0;32m   (...)\u001b[0m\n\u001b[1;32m   1741\u001b[0m \u001b[39m        description: This sentiment analysis model classifies the tone-happy, sad, angry.\u001b[39;00m\n\u001b[1;32m   1742\u001b[0m \u001b[39m    \"\"\"\u001b[39;00m\n\u001b[0;32m-> 1743\u001b[0m     \u001b[39mreturn\u001b[39;00m \u001b[39mself\u001b[39;49m\u001b[39m.\u001b[39;49m_get_registry_client()\u001b[39m.\u001b[39;49mcreate_registered_model(name, tags, description)\n",
      "File \u001b[0;32m~/.local/lib/python3.8/site-packages/mlflow/tracking/_model_registry/client.py:63\u001b[0m, in \u001b[0;36mModelRegistryClient.create_registered_model\u001b[0;34m(self, name, tags, description)\u001b[0m\n\u001b[1;32m     61\u001b[0m tags \u001b[39m=\u001b[39m tags \u001b[39mif\u001b[39;00m tags \u001b[39melse\u001b[39;00m {}\n\u001b[1;32m     62\u001b[0m tags \u001b[39m=\u001b[39m [RegisteredModelTag(key, \u001b[39mstr\u001b[39m(value)) \u001b[39mfor\u001b[39;00m key, value \u001b[39min\u001b[39;00m tags\u001b[39m.\u001b[39mitems()]\n\u001b[0;32m---> 63\u001b[0m \u001b[39mreturn\u001b[39;00m \u001b[39mself\u001b[39;49m\u001b[39m.\u001b[39;49mstore\u001b[39m.\u001b[39;49mcreate_registered_model(name, tags, description)\n",
      "File \u001b[0;32m~/.local/lib/python3.8/site-packages/mlflow/store/model_registry/file_store.py:157\u001b[0m, in \u001b[0;36mFileStore.create_registered_model\u001b[0;34m(self, name, tags, description)\u001b[0m\n\u001b[1;32m    155\u001b[0m \u001b[39mself\u001b[39m\u001b[39m.\u001b[39m_check_root_dir()\n\u001b[1;32m    156\u001b[0m _validate_model_name(name)\n\u001b[0;32m--> 157\u001b[0m \u001b[39mself\u001b[39;49m\u001b[39m.\u001b[39;49m_validate_registered_model_does_not_exist(name)\n\u001b[1;32m    158\u001b[0m \u001b[39mfor\u001b[39;00m tag \u001b[39min\u001b[39;00m tags \u001b[39mor\u001b[39;00m []:\n\u001b[1;32m    159\u001b[0m     _validate_registered_model_tag(tag\u001b[39m.\u001b[39mkey, tag\u001b[39m.\u001b[39mvalue)\n",
      "File \u001b[0;32m~/.local/lib/python3.8/site-packages/mlflow/store/model_registry/file_store.py:114\u001b[0m, in \u001b[0;36mFileStore._validate_registered_model_does_not_exist\u001b[0;34m(self, name)\u001b[0m\n\u001b[1;32m    112\u001b[0m model_path \u001b[39m=\u001b[39m \u001b[39mself\u001b[39m\u001b[39m.\u001b[39m_get_registered_model_path(name)\n\u001b[1;32m    113\u001b[0m \u001b[39mif\u001b[39;00m exists(model_path):\n\u001b[0;32m--> 114\u001b[0m     \u001b[39mraise\u001b[39;00m MlflowException(\n\u001b[1;32m    115\u001b[0m         \u001b[39mf\u001b[39m\u001b[39m\"\u001b[39m\u001b[39mRegistered Model (name=\u001b[39m\u001b[39m{\u001b[39;00mname\u001b[39m}\u001b[39;00m\u001b[39m) already exists.\u001b[39m\u001b[39m\"\u001b[39m,\n\u001b[1;32m    116\u001b[0m         RESOURCE_ALREADY_EXISTS,\n\u001b[1;32m    117\u001b[0m     )\n",
      "\u001b[0;31mMlflowException\u001b[0m: Registered Model (name=logistic_regression-model-1) already exists."
     ]
    }
   ],
   "source": [
    "from mlflow import MlflowClient\n",
    "\n",
    "client = MlflowClient()\n",
    "client.create_registered_model(\"logistic_regression-model-1\")"
   ]
  },
  {
   "cell_type": "code",
   "execution_count": null,
   "id": "7dfb758d",
   "metadata": {},
   "outputs": [],
   "source": []
  }
 ],
 "metadata": {
  "kernelspec": {
   "display_name": "Python 3",
   "language": "python",
   "name": "python3"
  },
  "language_info": {
   "codemirror_mode": {
    "name": "ipython",
    "version": 3
   },
   "file_extension": ".py",
   "mimetype": "text/x-python",
   "name": "python",
   "nbconvert_exporter": "python",
   "pygments_lexer": "ipython3",
   "version": "3.8.16"
  },
  "vscode": {
   "interpreter": {
    "hash": "abbf4487b65de129f19043f83bcf6aafd1c7e4e62f5ea4d439dc965b03e2d03d"
   }
  }
 },
 "nbformat": 4,
 "nbformat_minor": 5
}
