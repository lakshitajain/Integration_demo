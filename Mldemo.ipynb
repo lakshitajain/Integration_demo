{
 "cells": [
  {
   "cell_type": "code",
   "execution_count": 58,
   "id": "1567d813",
   "metadata": {
    "scrolled": true
   },
   "outputs": [],
   "source": [
    "import numpy as np\n",
    "import pandas as pd\n",
    "import matplotlib.pyplot as plt\n",
    "from sklearn.linear_model import LogisticRegression\n",
    "from sklearn.model_selection import train_test_split  # Import train_test_split\n",
    "from sklearn import metrics\n",
    "# Load the dataset\n",
    "d=pd.read_csv('data/cardio_train.csv',delimiter=';')\n",
    "\n",
    "feature_cols1 = ['age', 'gender',\"height\", 'weight','ap_lo','ap_hi','cholesterol',\"gluc\",\"smoke\",\"active\"]\n",
    "logistic_regression = LogisticRegression()"
   ]
  },
  {
   "cell_type": "code",
   "execution_count": 59,
   "id": "e03323dd",
   "metadata": {},
   "outputs": [],
   "source": [
    "d[\"weight\"]=d[\"weight\"]/74.205690\n",
    "d[\"age\"]=d[\"age\"]/29\n",
    "d[\"height\"]=d[\"height\"]/164.359229"
   ]
  },
  {
   "cell_type": "code",
   "execution_count": 60,
   "id": "c8cb2ab8",
   "metadata": {},
   "outputs": [],
   "source": [
    "Q1 = d[\"ap_lo\"].quantile(0.25)\n",
    "Q3 = d[\"ap_lo\"].quantile(0.75)\n",
    "IQR = Q3 - Q1\n",
    "\n",
    "d[\"ap_lo\"] = d[\"ap_lo\"][~((d[\"ap_lo\"] < (Q1 - 1.5 * IQR)) |(d[\"ap_lo\"] > (Q3 + 1.5 * IQR)))]"
   ]
  },
  {
   "cell_type": "code",
   "execution_count": 61,
   "id": "edbf6420",
   "metadata": {},
   "outputs": [],
   "source": [
    "Q1 = d[\"ap_lo\"].quantile(0.25)\n",
    "Q3 = d[\"ap_lo\"].quantile(0.75)\n",
    "IQR = Q3 - Q1\n",
    "\n",
    "d[\"ap_lo\"] = d[\"ap_lo\"][~((d[\"ap_lo\"] < (Q1 - 1.5 * IQR)) |(d[\"ap_lo\"] > (Q3 + 1.5 * IQR)))]"
   ]
  },
  {
   "cell_type": "code",
   "execution_count": 62,
   "id": "da6932b7",
   "metadata": {},
   "outputs": [],
   "source": [
    "d[\"ap_lo\"]=d[\"ap_lo\"].fillna(d[\"ap_lo\"].mean())\n",
    "d[\"ap_hi\"]=d[\"ap_hi\"].fillna(d[\"ap_hi\"].mean())"
   ]
  },
  {
   "cell_type": "code",
   "execution_count": 63,
   "id": "9d906faa",
   "metadata": {},
   "outputs": [],
   "source": [
    "X = d[feature_cols1] # Features\n",
    "y = d.cardio \n",
    "X_train, X_test, y_train, y_test = train_test_split(X, y, test_size=0.25, random_state=4)"
   ]
  },
  {
   "cell_type": "code",
   "execution_count": 64,
   "id": "4a5cb31b",
   "metadata": {},
   "outputs": [
    {
     "name": "stderr",
     "output_type": "stream",
     "text": [
      "/home/lentraadmin/.local/lib/python3.8/site-packages/sklearn/linear_model/_logistic.py:458: ConvergenceWarning: lbfgs failed to converge (status=1):\n",
      "STOP: TOTAL NO. of ITERATIONS REACHED LIMIT.\n",
      "\n",
      "Increase the number of iterations (max_iter) or scale the data as shown in:\n",
      "    https://scikit-learn.org/stable/modules/preprocessing.html\n",
      "Please also refer to the documentation for alternative solver options:\n",
      "    https://scikit-learn.org/stable/modules/linear_model.html#logistic-regression\n",
      "  n_iter_i = _check_optimize_result(\n",
      "Successfully registered model 'logistic_regression-model-3'.\n",
      "2023/04/12 13:18:47 INFO mlflow.tracking._model_registry.client: Waiting up to 300 seconds for model version to finish creation.                     Model name: logistic_regression-model-3, version 1\n",
      "Created version '1' of model 'logistic_regression-model-3'.\n"
     ]
    }
   ],
   "source": [
    "import mlflow\n",
    "from sklearn.metrics import mean_squared_error, r2_score\n",
    "with mlflow.start_run():\n",
    "    logistic_regression= LogisticRegression()\n",
    "    logistic_regression.fit(X_train,y_train)\n",
    "    y_pred=logistic_regression.predict(X_test)\n",
    "    mlflow.log_metric('Accuracy',metrics.accuracy_score(y_test, y_pred))\n",
    "    mlflow.log_metric('MSE',mean_squared_error(y_test, y_pred))\n",
    "    mlflow.log_metric('r2',r2_score(y_test, y_pred))\n",
    "    mlflow.sklearn.log_model(logistic_regression, \"model\", registered_model_name=\"logistic_regression-model-4\")"
   ]
  },
  {
   "cell_type": "markdown",
   "id": "26c83274",
   "metadata": {},
   "source": []
  },
  {
   "cell_type": "code",
   "execution_count": 65,
   "id": "834e38d5",
   "metadata": {},
   "outputs": [],
   "source": [
    "mlflow.end_run()"
   ]
  }
 ],
 "metadata": {
  "kernelspec": {
   "display_name": "Python 3",
   "language": "python",
   "name": "python3"
  },
  "language_info": {
   "codemirror_mode": {
    "name": "ipython",
    "version": 3
   },
   "file_extension": ".py",
   "mimetype": "text/x-python",
   "name": "python",
   "nbconvert_exporter": "python",
   "pygments_lexer": "ipython3",
   "version": "3.8.16"
  },
  "vscode": {
   "interpreter": {
    "hash": "abbf4487b65de129f19043f83bcf6aafd1c7e4e62f5ea4d439dc965b03e2d03d"
   }
  }
 },
 "nbformat": 4,
 "nbformat_minor": 5
}
